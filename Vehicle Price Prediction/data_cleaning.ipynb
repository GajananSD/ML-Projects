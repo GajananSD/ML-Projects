{
 "cells": [
  {
   "cell_type": "code",
   "execution_count": 1,
   "id": "b87f60df",
   "metadata": {},
   "outputs": [],
   "source": [
    "import pandas as pd\n",
    "import numpy as np\n",
    "import re \n",
    "import matplotlib.pyplot as plt\n",
    "import seaborn as sns"
   ]
  },
  {
   "cell_type": "code",
   "execution_count": 2,
   "id": "b3671d18",
   "metadata": {},
   "outputs": [
    {
     "data": {
      "text/html": [
       "<div>\n",
       "<style scoped>\n",
       "    .dataframe tbody tr th:only-of-type {\n",
       "        vertical-align: middle;\n",
       "    }\n",
       "\n",
       "    .dataframe tbody tr th {\n",
       "        vertical-align: top;\n",
       "    }\n",
       "\n",
       "    .dataframe thead th {\n",
       "        text-align: right;\n",
       "    }\n",
       "</style>\n",
       "<table border=\"1\" class=\"dataframe\">\n",
       "  <thead>\n",
       "    <tr style=\"text-align: right;\">\n",
       "      <th></th>\n",
       "      <th>name</th>\n",
       "      <th>description</th>\n",
       "      <th>make</th>\n",
       "      <th>model</th>\n",
       "      <th>year</th>\n",
       "      <th>price</th>\n",
       "      <th>engine</th>\n",
       "      <th>cylinders</th>\n",
       "      <th>fuel</th>\n",
       "      <th>mileage</th>\n",
       "      <th>transmission</th>\n",
       "      <th>trim</th>\n",
       "      <th>body</th>\n",
       "      <th>doors</th>\n",
       "      <th>exterior_color</th>\n",
       "      <th>interior_color</th>\n",
       "      <th>drivetrain</th>\n",
       "    </tr>\n",
       "  </thead>\n",
       "  <tbody>\n",
       "    <tr>\n",
       "      <th>0</th>\n",
       "      <td>2024 Jeep Wagoneer Series II</td>\n",
       "      <td>\\n      \\n        Heated Leather Seats, Nav Sy...</td>\n",
       "      <td>Jeep</td>\n",
       "      <td>Wagoneer</td>\n",
       "      <td>2024</td>\n",
       "      <td>74600.0</td>\n",
       "      <td>24V GDI DOHC Twin Turbo</td>\n",
       "      <td>6.0</td>\n",
       "      <td>Gasoline</td>\n",
       "      <td>10.0</td>\n",
       "      <td>8-Speed Automatic</td>\n",
       "      <td>Series II</td>\n",
       "      <td>SUV</td>\n",
       "      <td>4.0</td>\n",
       "      <td>White</td>\n",
       "      <td>Global Black</td>\n",
       "      <td>Four-wheel Drive</td>\n",
       "    </tr>\n",
       "  </tbody>\n",
       "</table>\n",
       "</div>"
      ],
      "text/plain": [
       "                           name  \\\n",
       "0  2024 Jeep Wagoneer Series II   \n",
       "\n",
       "                                         description  make     model  year  \\\n",
       "0  \\n      \\n        Heated Leather Seats, Nav Sy...  Jeep  Wagoneer  2024   \n",
       "\n",
       "     price                   engine  cylinders      fuel  mileage  \\\n",
       "0  74600.0  24V GDI DOHC Twin Turbo        6.0  Gasoline     10.0   \n",
       "\n",
       "        transmission       trim body  doors exterior_color interior_color  \\\n",
       "0  8-Speed Automatic  Series II  SUV    4.0          White   Global Black   \n",
       "\n",
       "         drivetrain  \n",
       "0  Four-wheel Drive  "
      ]
     },
     "execution_count": 2,
     "metadata": {},
     "output_type": "execute_result"
    }
   ],
   "source": [
    "df = pd.read_csv('dataset.csv')\n",
    "df.head(1)"
   ]
  },
  {
   "cell_type": "code",
   "execution_count": 3,
   "id": "9e81dd37",
   "metadata": {},
   "outputs": [
    {
     "data": {
      "text/plain": [
       "name                0\n",
       "description        56\n",
       "make                0\n",
       "model               0\n",
       "year                0\n",
       "price              23\n",
       "engine              2\n",
       "cylinders         105\n",
       "fuel                7\n",
       "mileage            34\n",
       "transmission        2\n",
       "trim                1\n",
       "body                3\n",
       "doors               7\n",
       "exterior_color      5\n",
       "interior_color     38\n",
       "drivetrain          0\n",
       "dtype: int64"
      ]
     },
     "execution_count": 3,
     "metadata": {},
     "output_type": "execute_result"
    }
   ],
   "source": [
    "df.isnull().sum()"
   ]
  },
  {
   "cell_type": "markdown",
   "id": "264c0d15",
   "metadata": {},
   "source": [
    "<small>\n",
    "\n",
    "In this dataset, `price` is the **target variable** — the value we want our machine learning model to predict.\n",
    "\n",
    "- Rows with missing target values cannot be used for supervised learning tasks.\n",
    "- Keeping them would introduce noise and confuse the model.\n",
    "- Filling missing `price` values with the mean, median, or any other statistic is not appropriate because it:\n",
    "  - Introduces bias into the target.\n",
    "  - Reduces the natural variance in the data.\n",
    "  - Can lead to poor generalization and model performance.\n",
    "\n",
    "**Therefore, it is best practice to drop rows where `price` is missing.**"
   ]
  },
  {
   "cell_type": "code",
   "execution_count": 4,
   "id": "9a170d02",
   "metadata": {},
   "outputs": [],
   "source": [
    "df = df.dropna(subset=['price'])"
   ]
  },
  {
   "cell_type": "markdown",
   "id": "a351993d",
   "metadata": {},
   "source": [
    "**🟢 Engine Column**"
   ]
  },
  {
   "cell_type": "code",
   "execution_count": null,
   "id": "207b5ddf",
   "metadata": {},
   "outputs": [],
   "source": [
    "# Saving unique values of 'Engine' column to analyse\n",
    "\n",
    "unique_engines = df['engine'].unique()\n",
    "\n",
    "with open('lookups/unique_engines.txt', 'w', encoding='utf-8') as f:\n",
    "    for item in unique_engines:\n",
    "        f.write(str(item) + '\\n')"
   ]
  },
  {
   "cell_type": "markdown",
   "id": "d737c2eb",
   "metadata": {},
   "source": [
    "<small>\n",
    "\n",
    "From `Engine` column we have some data in format of VIN number so we have to extract engine information from number."
   ]
  },
  {
   "cell_type": "code",
   "execution_count": 6,
   "id": "63459576",
   "metadata": {},
   "outputs": [
    {
     "name": "stdout",
     "output_type": "stream",
     "text": [
      "['ZACNDFAN0R3A12168']\n",
      "['1V2BMPE85RC003636']\n",
      "['ZACNDFAN0R3A12168']\n",
      "['3GN7DNRPXRS232327']\n",
      "['1FMUK7HH1SGA05728']\n",
      "['3C63R3HLXRG198198']\n",
      "['SADHM2S12R1631756']\n",
      "['7FARS4H71SE000866']\n"
     ]
    }
   ],
   "source": [
    "pattern = r\"<dt>VIN</dt>\\s*([A-Za-z0-9]+)\"\n",
    "for text in df['engine'].dropna():  \n",
    "    matches = re.findall(pattern, text)\n",
    "    if matches:\n",
    "        print(matches)\n",
    "    "
   ]
  },
  {
   "cell_type": "markdown",
   "id": "ea0ec0fa",
   "metadata": {},
   "source": [
    "<small>\n",
    "\n",
    "Here can use API to extract engine information from vehicle database website.   \n",
    "\n",
    "**ZACNDFAN0R3A12168**: \"Gasoline 2.0L VVT DOHC 4-cylinders All-wheel Drive Automatic Direct injection Turbo\",   \n",
    "**1V2BMPE85RC003636**: \"Electric Rear-wheel Drive Automatic\",  \n",
    "**3GN7DNRPXRS232327**: \"Electric Front-wheel Drive Automatic\",  \n",
    "**1FMUK7HH1SGA05728**: \"Gasoline 2.3L VVT DOHC 4-cylinders Rear-wheel Drive Automatic Direct injection Turbo TI-VCT\",   \n",
    "**3C63R3HLXRG198198**: \"Diesel 6.7L OHV 6-cylinders Four-wheel Drive Automatic Turbo\",  \n",
    "**SADHM2S12R1631756**: \"Electric All-wheel Drive Automatic\",  \n",
    "**7FARS4H71SE000866**: \"Gasoline 1.5L DOHC 4-cylinders Four-wheel Drive Direct injection Turbo i-VTEC\"  \n",
    "\n",
    "We will change it in dataframe."
   ]
  },
  {
   "cell_type": "code",
   "execution_count": 7,
   "id": "1d234b69",
   "metadata": {},
   "outputs": [],
   "source": [
    "pattern = r\"<dt>VIN</dt>\\s*([A-Za-z0-9]+)\"\n",
    "vin_data = {\n",
    "    \"ZACNDFAN0R3A12168\": \"Gasoline 2.0L VVT DOHC 4-cylinders All-wheel Drive Automatic Direct injection Turbo\", \n",
    "    \"1V2BMPE85RC003636\": \"Electric Rear-wheel Drive Automatic\",\n",
    "    \"3GN7DNRPXRS232327\": \"Electric Front-wheel Drive Automatic\",\n",
    "    \"1FMUK7HH1SGA05728\": \"Gasoline 2.3L VVT DOHC 4-cylinders Rear-wheel Drive Automatic Direct injection Turbo TI-VCT\", \n",
    "    \"3C63R3HLXRG198198\": \"Diesel 6.7L OHV 6-cylinders Four-wheel Drive Automatic Turbo\",\n",
    "    \"SADHM2S12R1631756\": \"Electric All-wheel Drive Automatic\",\n",
    "    \"7FARS4H71SE000866\": \"Gasoline 1.5L DOHC 4-cylinders Four-wheel Drive Direct injection Turbo i-VTEC\"\n",
    "}\n",
    "\n",
    "def replace_with_vin_info(text):\n",
    "    text = str(text) \n",
    "    match = re.search(pattern, text)\n",
    "    if match:\n",
    "        vin = match.group(1)\n",
    "        return vin_data.get(vin, text)  \n",
    "    return text  \n",
    "\n",
    "df[\"engine\"] = df[\"engine\"].apply(replace_with_vin_info)"
   ]
  },
  {
   "cell_type": "markdown",
   "id": "fde4048a",
   "metadata": {},
   "source": [
    "<small>\n",
    "\n",
    " **Engine Specifications Breakdown**\n",
    "\n",
    "| **Category**       | **Details**                                                                 |\n",
    "|--------------------|-----------------------------------------------------------------------------|\n",
    "| **Engine Type**    | V-8, V-6, I-6, I-4, I-3                                          |\n",
    "| **Valve Count**    | 12V, 16V, 24V, 32V                                          |\n",
    "| **Displacement**   | 1.3L – 6.7L                                                           |\n",
    "| **Fuel System**    | - **GDI**: Gasoline Direct Injection <br> - **MPFI**: Multi-Port Fuel Injection <br> - **DDI**: Diesel Direct Injection <br> - **PDI**: Port/Direct Injection (Dual Injection) |\n",
    "| **Valve Train**    | - **DOHC**: Dual Overhead Camshaft <br> - **OHV**: Overhead Valve (Pushrod) <br> - **SOHC**: Single Overhead Camshaft |\n",
    "| **Aspiration**     | - **Turbo** <br> - **Twin-Turbo** <br> - **Intercooled Turbo** <br> - **Naturally Aspirated** |\n",
    "| **Fuel Type**      | - **Gasoline** (Regular/Premium) <br> - **Diesel** <br> - **Hybrid** (Electric + Gas) <br> - **Flexible Fuel** (E85 Compatible) |\n",
    "| **Variable Valve Technologies** | - **VVT**: Variable Valve Timing <br> - **CVVT**: Continuously Variable Valve Timing <br> - **i-VTEC**: Intelligent Variable Valve Timing and Lift Electronic Control  <br> - **D-CVVT**: Dual CVVT <br> - **Ti-VCT**: Twin Independent Variable Camshaft Timing <br> - **Multiair**  <br> - **CVVD**: Continuously Variable Valve Duration  <br> - **iVCT**: Independent Variable Camshaft Timing |"
   ]
  },
  {
   "cell_type": "markdown",
   "id": "00fbc4e0",
   "metadata": {},
   "source": [
    "<small>\n",
    "\n",
    "Here we will create 7 new columns named as   \n",
    "`engine_type`  \n",
    "`valve_count`    \n",
    "`displacement`  \n",
    "`fuel_system`  \n",
    "`valve_train`  \n",
    "`aspiration`  \n",
    "`valve_tech`  \n",
    "\n",
    "There are 2 columns are already present in dataset `fuel` and `cylinders`   \n",
    "`cylinders` column has 102 missing values so we can fill that from engine info"
   ]
  },
  {
   "cell_type": "code",
   "execution_count": 8,
   "id": "b220a19f",
   "metadata": {},
   "outputs": [],
   "source": [
    "def extract_features(engine_description):\n",
    "\n",
    "    features = {\n",
    "        'engine_type': None,\n",
    "        'valve_count': None,\n",
    "        'displacement': None,\n",
    "        'fuel_system': None,\n",
    "        'valve_train': None,\n",
    "        'aspiration': False,\n",
    "        'valve_tech': None,\n",
    "        'cylinder_count': None,\n",
    "    }\n",
    "\n",
    "    engine_desc = str(engine_description.lower().strip())\n",
    "\n",
    "    # Extracting engine type (Inline or V-type)\n",
    "    engine_type_match = re.search(r'([vi])-\\d', engine_desc)\n",
    "    if engine_type_match:\n",
    "        features['engine_type'] = engine_type_match.group(1).upper()\n",
    "\n",
    "    # Extracting valve count\n",
    "    valve_match = re.search(r'(\\d+)v', engine_desc)\n",
    "    if valve_match:\n",
    "        features['valve_count'] = int(valve_match.group(1))\n",
    "    \n",
    "    # Extracting displacement\n",
    "    displacement_match = re.search(r'(\\d*\\.?\\d+)\\s?l', engine_desc)\n",
    "    if displacement_match:\n",
    "        features['displacement'] = float(displacement_match.group(1))\n",
    "    \n",
    "    # Extracting Fuel system type\n",
    "    if 'gdi' in engine_desc or 'gasoline direct injection' in engine_desc or 'direct injection' in engine_desc:\n",
    "        features['fuel_system'] = 'GDI'\n",
    "    elif 'mpfi' in engine_desc:\n",
    "        features['fuel_system'] = 'MPFI'\n",
    "    elif 'ddi' in engine_desc or 'diesel direct injection' in engine_desc:\n",
    "        features['fuel_system'] = 'DDI'\n",
    "    elif 'pdi' in engine_desc or 'port/direct injection' in engine_desc:\n",
    "        features['fuel_system'] = 'PDI'\n",
    "    else:\n",
    "        features['fuel_system'] = 'unknown'\n",
    "\n",
    "    # Extracting Valve Train type\n",
    "    if 'dohc' in engine_desc:\n",
    "        features['valve_train'] = 'DOHC'\n",
    "    elif 'sohc' in engine_desc:\n",
    "        features['valve_train'] = 'SOHC'\n",
    "    elif 'ohv' in engine_desc:\n",
    "        features['valve_train'] = 'OHV'\n",
    "    else:\n",
    "        features['valve_train'] = 'unknown'\n",
    "\n",
    "    \n",
    "    # Extracting Aspiration type\n",
    "    '''Note: For intercooled aspiration, if it appears as a mistyped or truncated form like 'oled', \n",
    "             it should be corrected to 'intercooled'.'''\n",
    "\n",
    "    if 'intercooled' not in engine_desc and 'oled' in engine_desc:\n",
    "        engine_desc = engine_desc.replace('oled', 'intercooled')\n",
    "\n",
    "    if 'twin turbo' in engine_desc:\n",
    "        features['aspiration'] = 'twin'\n",
    "    elif 'intercooled turbo' in engine_desc:\n",
    "        features['aspiration'] = 'intercooled'\n",
    "    elif 'turbo' in engine_desc:\n",
    "        features['aspiration'] = 'turbo'\n",
    "    else:\n",
    "        features['aspiration'] = 'natural'\n",
    "\n",
    "\n",
    "    # Extracting Valve Technology\n",
    "    tech_phrases = ['vvt', 'cvvt', 'i-vtec', 'd-cvvt', 'ti-vct', 'multiair', 'cvvd', 'ivct']\n",
    "    for phrase in tech_phrases:\n",
    "        if phrase in engine_desc:\n",
    "            features['valve_tech'] = phrase.upper()\n",
    "            break\n",
    "\n",
    "    # Extracting Cylinder Count\n",
    "    cylinder_match = re.search(r'(\\d)-cylinders|i-(\\d)|v-(\\d)', engine_desc)\n",
    "    cylinder_count = None\n",
    "    if cylinder_match:\n",
    "        cylinder_count = cylinder_match.group(1) or cylinder_match.group(2) or cylinder_match.group(3)\n",
    "        if cylinder_count:\n",
    "            features['cylinder_count'] = int(cylinder_count)\n",
    "\n",
    "    \n",
    "    return features"
   ]
  },
  {
   "cell_type": "code",
   "execution_count": null,
   "id": "17d8ad69",
   "metadata": {},
   "outputs": [],
   "source": [
    "features_df = df['engine'].apply(extract_features).apply(pd.Series)\n",
    "df = pd.concat([df, features_df], axis=1)"
   ]
  },
  {
   "cell_type": "markdown",
   "id": "cc7b63b4",
   "metadata": {},
   "source": [
    "<small>\n",
    "\n",
    "Here, Cylinders column is also important but it has 102 missing values.  "
   ]
  },
  {
   "cell_type": "code",
   "execution_count": null,
   "id": "6bf41b5a",
   "metadata": {},
   "outputs": [
    {
     "name": "stdout",
     "output_type": "stream",
     "text": [
      "fuel\n",
      "Electric    94\n",
      "NaN          7\n",
      "Gasoline     1\n",
      "Name: count, dtype: int64\n"
     ]
    }
   ],
   "source": [
    "missing_cylinders_df = df[df['cylinders'].isna()]\n",
    "result = missing_cylinders_df[['fuel']]\n",
    "print(result['fuel'].value_counts(dropna=False))"
   ]
  },
  {
   "cell_type": "markdown",
   "id": "2551abb7",
   "metadata": {},
   "source": [
    "<small>\n",
    " \n",
    "We have extracted cylinder count from engine description. So we can use that to fill respective missing cylinder values.  \n",
    "Most of missing values are of **Electric** vehicle.    \n",
    "So, Electric vehicles has 0 cylinders hence we can fill missing values with 0"
   ]
  },
  {
   "cell_type": "code",
   "execution_count": null,
   "id": "1510f028",
   "metadata": {},
   "outputs": [],
   "source": [
    "# Filling missing values in 'cylinders' with values from 'cylinder_count'\n",
    "df['cylinders'] = df['cylinders'].fillna(df['cylinder_count'])\n",
    "\n",
    "# Remaining missing values in 'cylinders' will be filled with 0 as vehicles are electric\n",
    "df['cylinders'] = df['cylinders'].fillna(0)\n",
    "\n",
    "# Dropping the 'cylinder_count' column\n",
    "df = df.drop(columns=['cylinder_count'])"
   ]
  },
  {
   "cell_type": "code",
   "execution_count": 12,
   "id": "7cfffedb",
   "metadata": {},
   "outputs": [
    {
     "data": {
      "text/plain": [
       "name                0\n",
       "description        56\n",
       "make                0\n",
       "model               0\n",
       "year                0\n",
       "price               0\n",
       "engine              0\n",
       "cylinders           0\n",
       "fuel                7\n",
       "mileage            34\n",
       "transmission        2\n",
       "trim                1\n",
       "body                3\n",
       "doors               7\n",
       "exterior_color      5\n",
       "interior_color     37\n",
       "drivetrain          0\n",
       "engine_type       853\n",
       "valve_count       388\n",
       "displacement      848\n",
       "fuel_system         0\n",
       "valve_train         0\n",
       "aspiration          0\n",
       "valve_tech        916\n",
       "dtype: int64"
      ]
     },
     "execution_count": 12,
     "metadata": {},
     "output_type": "execute_result"
    }
   ],
   "source": [
    "df.isnull().sum()"
   ]
  },
  {
   "cell_type": "markdown",
   "id": "ae7c866a",
   "metadata": {},
   "source": [
    "<small>\n",
    "\n",
    "Extracted features `engine_type`, `displacement`, `valve_tech` has more missing values (>80%) so we have to drop.  "
   ]
  },
  {
   "cell_type": "code",
   "execution_count": 13,
   "id": "69b8d75f",
   "metadata": {},
   "outputs": [],
   "source": [
    "df = df.drop(columns=['engine_type', 'displacement', 'valve_tech'])"
   ]
  },
  {
   "cell_type": "markdown",
   "id": "3d74970e",
   "metadata": {},
   "source": [
    "<small>\n",
    "\n",
    "`valve_count` has missing values which can be imputed from combination (cylinders + valve_train).   \n",
    "Below table is derived from available data represents valves count\n",
    "\n",
    "| Cylinders | DOHC | OHV | SOHC | Other |\n",
    "|-----------|------|-----|------|-------|\n",
    "| 3         | 12   | 6   | 12   |  12   |\n",
    "| 4         | 16   | 8   | 16   |  16   |\n",
    "| 6         | 24   | 24  | 24   |  24   |\n",
    "| 8         | 32   | 16  | 32   |  32   |"
   ]
  },
  {
   "cell_type": "code",
   "execution_count": null,
   "id": "a339935a",
   "metadata": {},
   "outputs": [],
   "source": [
    "di = {\n",
    "    (3, 'DOHC'): 12,\n",
    "    (3, 'OHV'): 6,\n",
    "    (3, 'SOHC'): 12,\n",
    "    (3, 'unknown'): 12,\n",
    "    \n",
    "    (4, 'DOHC'): 16,\n",
    "    (4, 'OHV'): 8,\n",
    "    (4, 'SOHC'): 16,\n",
    "    (4, 'unknown'): 16,\n",
    "    \n",
    "    (6, 'DOHC'): 24,\n",
    "    (6, 'OHV'): 24,\n",
    "    (6, 'SOHC'): 24,\n",
    "    (6, 'unknown'): 24,\n",
    "    \n",
    "    (8, 'DOHC'): 32,\n",
    "    (8, 'OHV'): 16,\n",
    "    (8, 'SOHC'): 32,\n",
    "    (8, 'unknown'): 32\n",
    "}\n",
    "\n",
    "df['valve_count'] = df.apply(\n",
    "    lambda row: di.get((row['cylinders'], row['valve_train']), row['valve_count'])\n",
    "    if pd.isna(row['valve_count']) \n",
    "    else row['valve_count'],\n",
    "    axis=1\n",
    ")\n",
    "\n",
    "# Remaining vehicles are electric and do not have valves so filling with 0\n",
    "df['valve_count'] = df['valve_count'].fillna(0)"
   ]
  },
  {
   "cell_type": "markdown",
   "id": "3f51d84d",
   "metadata": {},
   "source": [
    "**🟢 Transmission Column**"
   ]
  },
  {
   "cell_type": "code",
   "execution_count": 15,
   "id": "aee56673",
   "metadata": {},
   "outputs": [
    {
     "name": "stdout",
     "output_type": "stream",
     "text": [
      "725            2024 Mercedes-Benz EQS 450 Base 4MATIC\n",
      "940    2024 Ford Transit-350 148 WB Medium Roof Cargo\n",
      "Name: name, dtype: object\n"
     ]
    }
   ],
   "source": [
    "print(df.loc[df['transmission'].isna(), 'name'])"
   ]
  },
  {
   "cell_type": "markdown",
   "id": "84b817c3",
   "metadata": {},
   "source": [
    "<small>\n",
    "\n",
    "All vehichles with name '2024 Mercedes-Benz EQS 450 Base 4MATIC' and '2024 Ford Transit-350 148 WB Medium Roof Cargo' have Transmission as **Automatic**"
   ]
  },
  {
   "cell_type": "code",
   "execution_count": 16,
   "id": "f22a760c",
   "metadata": {},
   "outputs": [],
   "source": [
    "df['transmission'] = df['transmission'].fillna('Automatic')"
   ]
  },
  {
   "cell_type": "code",
   "execution_count": null,
   "id": "e7ea976f",
   "metadata": {},
   "outputs": [],
   "source": [
    "# Saving unique values of 'transmission' column to analyse\n",
    "\n",
    "unique_transmission = df['transmission'].value_counts()\n",
    "\n",
    "with open('lookups/unique_transmissions.txt', 'w', encoding='utf-8') as f:\n",
    "    for transmission, count in unique_transmission.items():  \n",
    "        f.write(f\"{transmission} : {count}\\n\")  "
   ]
  },
  {
   "cell_type": "markdown",
   "id": "c9cecabf",
   "metadata": {},
   "source": [
    "<small>\n",
    "\n",
    "From above data we can extract two new features:\n",
    "\n",
    "| **Category**            | **Details**                              |\n",
    "|-------------------------|-----------------------------------------|\n",
    "| **Transmission Type**   | - CVT (Continuously Variable Automatic)<br>  - DSG (Direct-Shift Gearbox)<br>   - DCT (Dual Clutch Transmission)<br>   - Shiftable<br>     - Automatic |\n",
    "| **Gear**                | 6, 7, 8, 9, 10                          |  \n",
    "\n",
    "Here we can create two new columns:  \n",
    "\n",
    "- `transmission_type`  \n",
    "- `gears`  "
   ]
  },
  {
   "cell_type": "code",
   "execution_count": 18,
   "id": "f5540645",
   "metadata": {},
   "outputs": [],
   "source": [
    "def extract_features(transmission_description):\n",
    "\n",
    "    features = {\n",
    "        'transmission_type': None,\n",
    "        'gears': None,\n",
    "    }\n",
    "\n",
    "    trans_desc = str(transmission_description.lower().strip())\n",
    "\n",
    "    # Extracting transmission type\n",
    "    if 'cvt' in trans_desc:\n",
    "        features['transmission_type'] = 'CVT'\n",
    "    elif 'dsg' in trans_desc:\n",
    "        features['transmission_type'] = 'DSG'\n",
    "    elif 'dct' in trans_desc or 'dual clutch' in trans_desc:\n",
    "        features['transmission_type'] = 'DCT'\n",
    "    elif 'shift' in trans_desc or 'shiftable' in trans_desc or 'shifters' in trans_desc:\n",
    "        features['transmission_type'] = 'shiftable'\n",
    "    elif 'automatic' in trans_desc or 'a/t' in trans_desc:\n",
    "        features['transmission_type'] = 'automatic'\n",
    "    else:\n",
    "        features['transmission_type'] = 'manual'\n",
    "\n",
    "    # Extracting number of gears\n",
    "    gear_match = re.search(r'(\\d+)\\s*(?:-speed|-spd|speed|spd)', trans_desc)\n",
    "    if gear_match:\n",
    "        features['gears'] = int(gear_match.group(1))\n",
    "    \n",
    "    \n",
    "    return features"
   ]
  },
  {
   "cell_type": "code",
   "execution_count": null,
   "id": "635c08a3",
   "metadata": {},
   "outputs": [],
   "source": [
    "features_df = df['transmission'].apply(extract_features).apply(pd.Series)\n",
    "df = pd.concat([df, features_df], axis=1)"
   ]
  },
  {
   "cell_type": "code",
   "execution_count": 20,
   "id": "aab8812e",
   "metadata": {},
   "outputs": [],
   "source": [
    "gear_per_model = df.groupby(['make', 'model'])['gears'].agg(lambda x: x.mode()[0] if not x.mode().empty else np.nan)\n",
    "\n",
    "# Fill missing gears using the mapped mode values\n",
    "df['gears'] = df.apply(\n",
    "    lambda row: gear_per_model.get((row['make'], row['model']), row['gears']) \n",
    "    if pd.isna(row['gears']) \n",
    "    else row['gears'],\n",
    "    axis=1\n",
    ")"
   ]
  },
  {
   "cell_type": "markdown",
   "id": "d4789de7",
   "metadata": {},
   "source": [
    "Remaining missing gears values correspond to automatic vehicles, so they can be filled using the mode of gears for automatic transmissions."
   ]
  },
  {
   "cell_type": "code",
   "execution_count": 21,
   "id": "a38e31b6",
   "metadata": {},
   "outputs": [],
   "source": [
    "# Transmission types \n",
    "trans_types = ['automatic', 'CVT', 'shiftable', 'DSG', 'manual', 'DCT']\n",
    "\n",
    "# Mode of gears for each transmission_type\n",
    "gears_mode_per_trans = df[df['transmission_type'].isin(trans_types)].groupby('transmission_type')['gears'].agg(lambda x: x.mode()[0] if not x.mode().empty else np.nan)\n",
    "\n",
    "# Filling missing gears using the corresponding transmission_type mode\n",
    "df['gears'] = df.apply(\n",
    "    lambda row: gears_mode_per_trans[row['transmission_type']]\n",
    "    if pd.isna(row['gears']) and row['transmission_type'] in gears_mode_per_trans\n",
    "    else row['gears'],\n",
    "    axis=1\n",
    ")"
   ]
  },
  {
   "cell_type": "markdown",
   "id": "8a146f85",
   "metadata": {},
   "source": [
    "**🟢 Fuel Column**"
   ]
  },
  {
   "cell_type": "markdown",
   "id": "9e100c0d",
   "metadata": {},
   "source": [
    "<small>\n",
    "\n",
    "`fuel` column has only 7 values missing and all have engine named as 'c' or 'electric' so we can fill fuel value as **electric**"
   ]
  },
  {
   "cell_type": "code",
   "execution_count": 22,
   "id": "74f57f20",
   "metadata": {},
   "outputs": [],
   "source": [
    "df['fuel'] = df['fuel'].fillna('Electric')"
   ]
  },
  {
   "cell_type": "markdown",
   "id": "54b74631",
   "metadata": {},
   "source": [
    "**🟢 Trim Column**"
   ]
  },
  {
   "cell_type": "markdown",
   "id": "bf6a6920",
   "metadata": {},
   "source": [
    "<small>\n",
    "\n",
    "`trim` column has only 1 value missing and we can fill it with unkown."
   ]
  },
  {
   "cell_type": "code",
   "execution_count": 23,
   "id": "bf9ff33c",
   "metadata": {},
   "outputs": [],
   "source": [
    "df['trim'] = df['trim'].fillna('unkown')"
   ]
  },
  {
   "cell_type": "code",
   "execution_count": null,
   "id": "6f4000cf",
   "metadata": {},
   "outputs": [],
   "source": [
    "# Saving unique values of 'trim' column to analyse\n",
    "\n",
    "unique_trim = df['trim'].value_counts()\n",
    "\n",
    "with open('lookups/unique_trim.txt', 'w', encoding='utf-8') as f:\n",
    "    for trim, count in unique_trim.items():  \n",
    "        f.write(f\"{trim} : {count}\\n\")  "
   ]
  },
  {
   "cell_type": "markdown",
   "id": "01628a84",
   "metadata": {},
   "source": [
    "<small>\n",
    "\n",
    "The `trim` column has high cardinality with 198 unique values.   \n",
    "To reduce complexity, we retain categories with more than or equal to 3 occurrences—preserving 85% of the data  \n",
    "—and group the rest into an **\"Unknown\"** category, reducing the total categories to 87."
   ]
  },
  {
   "cell_type": "code",
   "execution_count": 25,
   "id": "bd5b671d",
   "metadata": {},
   "outputs": [],
   "source": [
    "value_counts = df['trim'].value_counts()\n",
    "valid_trims = value_counts[value_counts >= 3].index\n",
    "\n",
    "df['trim'] = df['trim'].apply(lambda x: x if x in valid_trims else 'Unknown')"
   ]
  },
  {
   "cell_type": "markdown",
   "id": "ca7b09d5",
   "metadata": {},
   "source": [
    "**🟢 Body Column**"
   ]
  },
  {
   "cell_type": "markdown",
   "id": "518e218e",
   "metadata": {},
   "source": [
    "<small>\n",
    "\n",
    "The `body` column has **3 missing values**.  \n",
    "These can be imputed based on a combination of the following features:\n",
    "- `make`\n",
    "- `fuel`\n",
    "- `trim`\n",
    "\n",
    "By leveraging these attributes, we can infer the most likely `body` type for the missing entries."
   ]
  },
  {
   "cell_type": "code",
   "execution_count": 26,
   "id": "8e8c7e83",
   "metadata": {},
   "outputs": [],
   "source": [
    "missing_body = df[df['body'].isna()]\n",
    "\n",
    "for idx, row in missing_body.iterrows():\n",
    "    subset = df[\n",
    "        (df['make'] == row['make']) &\n",
    "        (df['fuel'] == row['fuel']) &\n",
    "        (df['trim'] == row['trim']) &\n",
    "        (df['body'].notna())\n",
    "    ]\n",
    "    \n",
    "    if not subset.empty:\n",
    "        most_common_body = subset['body'].mode()[0]\n",
    "        df.at[idx, 'body'] = most_common_body"
   ]
  },
  {
   "cell_type": "markdown",
   "id": "0b4a74b8",
   "metadata": {},
   "source": [
    "**🟢 Door Column**"
   ]
  },
  {
   "cell_type": "code",
   "execution_count": 27,
   "id": "63d76e11",
   "metadata": {},
   "outputs": [
    {
     "data": {
      "text/plain": [
       "doors\n",
       "4.0    925\n",
       "3.0     37\n",
       "2.0      9\n",
       "5.0      1\n",
       "Name: count, dtype: int64"
      ]
     },
     "execution_count": 27,
     "metadata": {},
     "output_type": "execute_result"
    }
   ],
   "source": [
    "df['doors'].value_counts()"
   ]
  },
  {
   "cell_type": "markdown",
   "id": "9fdeb4cf",
   "metadata": {},
   "source": [
    "<small>\n",
    "\n",
    "From above, we can see that over 95% of vehicles have 4 doors and the `doors` column has only 7 missing values.  \n",
    "So, we can fill missing values with 4 because it's the dominant and most likely door count, minimizing risk of incorrect imputation with a simple and effective approach."
   ]
  },
  {
   "cell_type": "code",
   "execution_count": 28,
   "id": "9dc7bda6",
   "metadata": {},
   "outputs": [],
   "source": [
    "df['doors'] = df['doors'].fillna(4)"
   ]
  },
  {
   "cell_type": "markdown",
   "id": "56fc1e05",
   "metadata": {},
   "source": [
    "**🟢 Exterior colour Column**"
   ]
  },
  {
   "cell_type": "code",
   "execution_count": 29,
   "id": "472f11fe",
   "metadata": {},
   "outputs": [
    {
     "data": {
      "text/plain": [
       "262"
      ]
     },
     "execution_count": 29,
     "metadata": {},
     "output_type": "execute_result"
    }
   ],
   "source": [
    "df['exterior_color'].nunique()"
   ]
  },
  {
   "cell_type": "code",
   "execution_count": null,
   "id": "4da2e8c6",
   "metadata": {},
   "outputs": [],
   "source": [
    "# Saving unique values of 'exterior_color' column to analyse\n",
    "\n",
    "unique_exterior_colour = df['exterior_color'].value_counts()\n",
    "\n",
    "with open('lookups/unique_exterior_colour.txt', 'w', encoding='utf-8') as f:\n",
    "    for color, count in unique_exterior_colour.items():  \n",
    "        f.write(f\"{color} : {count}\\n\")  "
   ]
  },
  {
   "cell_type": "markdown",
   "id": "d83c00ac",
   "metadata": {},
   "source": [
    "<small>\n",
    "\n",
    "The dataset contains 262 unique exterior_color values, which is high cardinality.\n",
    "\n",
    "To reduce dimensionality:  \n",
    "- Keeping color names with value count > 5 as individual labels.\n",
    "- Grouping all other rare colors into broader color categories:\n",
    "- {`white`, `black`, `gray`, `silver`, `red`, `blue`, `green`, `brown`, `gold`, `orange`, `purple`, `other`}\n",
    "\n",
    "This helps improve model performance by reducing noise and sparsity in categorical features."
   ]
  },
  {
   "cell_type": "code",
   "execution_count": 31,
   "id": "a4b1c940",
   "metadata": {},
   "outputs": [],
   "source": [
    "df['exterior_color'] = df['exterior_color'].fillna('other')\n",
    "\n",
    "color_counts = df['exterior_color'].value_counts()\n",
    "common_colors = color_counts[color_counts > 5].index\n",
    "\n",
    "def simplify_color(color):\n",
    "    if color in common_colors:\n",
    "        return color.lower()\n",
    "    \n",
    "    color_lower = color.lower()\n",
    "    \n",
    "    # Broad color category matching\n",
    "    if 'white' in color_lower:\n",
    "        return 'white'\n",
    "    elif 'black' in color_lower or 'ebony' in color_lower or 'obsidian' in color_lower:\n",
    "        return 'black'\n",
    "    elif 'gray' in color_lower or 'grey' in color_lower or 'granite' in color_lower or 'slate' in color_lower:\n",
    "        return 'gray'\n",
    "    elif 'silver' in color_lower or 'zinc' in color_lower:\n",
    "        return 'silver'\n",
    "    elif 'red' in color_lower or 'scarlet' in color_lower or 'crimson' in color_lower:\n",
    "        return 'red'\n",
    "    elif 'blue' in color_lower or 'navy' in color_lower or 'aqua' in color_lower:\n",
    "        return 'blue'\n",
    "    elif 'green' in color_lower or 'emerald' in color_lower or 'olive' in color_lower or 'cactus' in color_lower:\n",
    "        return 'green'\n",
    "    elif 'brown' in color_lower or 'bronze' in color_lower or 'stone' in color_lower:\n",
    "        return 'brown'\n",
    "    elif 'gold' in color_lower or 'champagne' in color_lower:\n",
    "        return 'gold'\n",
    "    elif 'orange' in color_lower or 'cayenne' in color_lower:\n",
    "        return 'orange'\n",
    "    elif 'purple' in color_lower or 'plum' in color_lower:\n",
    "        return 'purple'\n",
    "    else:\n",
    "        return 'other'\n",
    "\n",
    "\n",
    "df['ext_color'] = df['exterior_color'].apply(simplify_color)"
   ]
  },
  {
   "cell_type": "code",
   "execution_count": 32,
   "id": "2639b711",
   "metadata": {},
   "outputs": [
    {
     "data": {
      "text/plain": [
       "45"
      ]
     },
     "execution_count": 32,
     "metadata": {},
     "output_type": "execute_result"
    }
   ],
   "source": [
    "df['ext_color'].nunique()"
   ]
  },
  {
   "cell_type": "markdown",
   "id": "48463f97",
   "metadata": {},
   "source": [
    "The cardinality has now been reduced from 262 to 45"
   ]
  },
  {
   "cell_type": "markdown",
   "id": "ed93f116",
   "metadata": {},
   "source": [
    "**🟢 Interior colour Column**"
   ]
  },
  {
   "cell_type": "code",
   "execution_count": 33,
   "id": "f8ad60c4",
   "metadata": {},
   "outputs": [
    {
     "data": {
      "text/plain": [
       "90"
      ]
     },
     "execution_count": 33,
     "metadata": {},
     "output_type": "execute_result"
    }
   ],
   "source": [
    "df['interior_color'].nunique()"
   ]
  },
  {
   "cell_type": "code",
   "execution_count": null,
   "id": "70d16782",
   "metadata": {},
   "outputs": [],
   "source": [
    "# Saving unique values of 'interior_color' column to analyse\n",
    "\n",
    "unique_interior_colour = df['interior_color'].value_counts()\n",
    "\n",
    "with open('lookups/unique_interior_colour.txt', 'w', encoding='utf-8') as f:\n",
    "    for color, count in unique_interior_colour.items():  \n",
    "        f.write(f\"{color} : {count}\\n\")  "
   ]
  },
  {
   "cell_type": "markdown",
   "id": "bad8d608",
   "metadata": {},
   "source": [
    "<small> \n",
    "\n",
    "The original data contains **90 unique interior color categories**.   \n",
    "To reduce cardinality, we retain categories covering **85% of the data** by keeping those with a **value count > 4**.   \n",
    "The remaining rare categories are grouped into broader color classes. "
   ]
  },
  {
   "cell_type": "code",
   "execution_count": 35,
   "id": "f505c5a7",
   "metadata": {},
   "outputs": [],
   "source": [
    "df['interior_color'] = df['interior_color'].fillna('other')"
   ]
  },
  {
   "cell_type": "code",
   "execution_count": 36,
   "id": "c16bd78d",
   "metadata": {},
   "outputs": [],
   "source": [
    "color_counts = df['interior_color'].value_counts()\n",
    "common_colors = color_counts[color_counts > 4].index\n",
    "\n",
    "def simplify_color(color):\n",
    "    if color in common_colors:\n",
    "        return color.lower()\n",
    "    \n",
    "    color_lower = color.lower()\n",
    "    \n",
    "    # Broad color category matching\n",
    "    if 'black' in color_lower:\n",
    "        return 'black'\n",
    "    elif 'white' in color_lower or 'ivory' in color_lower or 'light platinum' in color_lower or 'oyster' in color_lower:\n",
    "        return 'white'\n",
    "    elif 'gray' in color_lower or 'grey' in color_lower or 'gry' in color_lower:\n",
    "        return 'gray'\n",
    "    elif 'brown' in color_lower or 'mocha' in color_lower or 'walnut' in color_lower :\n",
    "        return 'brown'\n",
    "    elif 'red' in color_lower or 'ruby' in color_lower or 'burgundy' in color_lower :\n",
    "        return 'red'\n",
    "    elif 'blue' in color_lower or 'navy' in color_lower:\n",
    "        return 'blue'\n",
    "    elif 'green' in color_lower:\n",
    "        return 'green'\n",
    "    elif 'silver' in color_lower or 'steel' in color_lower:\n",
    "        return 'silver'\n",
    "    else:\n",
    "        return 'other'\n",
    "    \n",
    "df['int_color'] = df['interior_color'].apply(simplify_color)"
   ]
  },
  {
   "cell_type": "code",
   "execution_count": 37,
   "id": "7be7227a",
   "metadata": {},
   "outputs": [
    {
     "data": {
      "text/plain": [
       "22"
      ]
     },
     "execution_count": 37,
     "metadata": {},
     "output_type": "execute_result"
    }
   ],
   "source": [
    "df['int_color'].nunique()"
   ]
  },
  {
   "cell_type": "markdown",
   "id": "3fd8d75c",
   "metadata": {},
   "source": [
    "The cardinality has now been reduced from 90 to 22"
   ]
  },
  {
   "cell_type": "markdown",
   "id": "55c30594",
   "metadata": {},
   "source": [
    "**🟢 Mileage Column**"
   ]
  },
  {
   "cell_type": "code",
   "execution_count": 38,
   "id": "8847d1db",
   "metadata": {},
   "outputs": [
    {
     "data": {
      "text/plain": [
       "count     945.000000\n",
       "mean       67.348148\n",
       "std       510.839452\n",
       "min         0.000000\n",
       "25%         4.000000\n",
       "50%         8.000000\n",
       "75%        13.000000\n",
       "max      9711.000000\n",
       "Name: mileage, dtype: float64"
      ]
     },
     "execution_count": 38,
     "metadata": {},
     "output_type": "execute_result"
    }
   ],
   "source": [
    "df['mileage'].describe()"
   ]
  },
  {
   "cell_type": "markdown",
   "id": "d213bf5b",
   "metadata": {},
   "source": [
    "<small>\n",
    "\n",
    "The large gap between the **75th percentile** and the **maximum** value indicates the presence of outliers and suggests that the mileage data is messy or contains anomalies.  "
   ]
  },
  {
   "cell_type": "code",
   "execution_count": 39,
   "id": "8c2112a6",
   "metadata": {},
   "outputs": [
    {
     "data": {
      "image/png": "[encoded data removed]",
      "text/plain": [
       "<Figure size 432x288 with 1 Axes>"
      ]
     },
     "metadata": {
      "needs_background": "light"
     },
     "output_type": "display_data"
    }
   ],
   "source": [
    "sns.boxplot(x=df['mileage'])\n",
    "plt.title('Boxplot of Mileage')\n",
    "plt.xlabel('Mileage')\n",
    "plt.show()"
   ]
  },
  {
   "cell_type": "markdown",
   "id": "4b5824f4",
   "metadata": {},
   "source": [
    "<small>\n",
    "\n",
    "Outliers can distort analysis and lead to misleading insights. One common way to detect and filter extreme values is by using the `Interquartile Range (IQR) method`."
   ]
  },
  {
   "cell_type": "code",
   "execution_count": 40,
   "id": "234b8b05",
   "metadata": {},
   "outputs": [
    {
     "name": "stdout",
     "output_type": "stream",
     "text": [
      "26\n"
     ]
    }
   ],
   "source": [
    "Q1 = df['mileage'].quantile(0.25)\n",
    "Q3 = df['mileage'].quantile(0.75)\n",
    "IQR = Q3 - Q1\n",
    "upper_bound = round(Q3 + 1.5 * IQR)\n",
    "print(upper_bound)"
   ]
  },
  {
   "cell_type": "code",
   "execution_count": 41,
   "id": "2d6c763f",
   "metadata": {},
   "outputs": [
    {
     "name": "stdout",
     "output_type": "stream",
     "text": [
      "Number of mileage values that are outlier: 97\n"
     ]
    }
   ],
   "source": [
    "count_above = (df['mileage'] > upper_bound).sum()\n",
    "print(f\"Number of mileage values that are outlier: {count_above}\")"
   ]
  },
  {
   "cell_type": "code",
   "execution_count": 42,
   "id": "1606e18a",
   "metadata": {},
   "outputs": [],
   "source": [
    "df['mileage'] = df['mileage'].apply(lambda x: upper_bound if x > upper_bound else x)"
   ]
  },
  {
   "cell_type": "code",
   "execution_count": 43,
   "id": "cb1e7952",
   "metadata": {},
   "outputs": [
    {
     "data": {
      "image/png": "[encoded data removed]",
      "text/plain": [
       "<Figure size 432x288 with 1 Axes>"
      ]
     },
     "metadata": {
      "needs_background": "light"
     },
     "output_type": "display_data"
    }
   ],
   "source": [
    "sns.boxplot(x=df['mileage'])\n",
    "plt.title('Boxplot of Mileage')\n",
    "plt.xlabel('Mileage')\n",
    "plt.show()"
   ]
  },
  {
   "cell_type": "code",
   "execution_count": 44,
   "id": "9559871e",
   "metadata": {},
   "outputs": [],
   "source": [
    "df['mileage'] = df['mileage'].fillna(round(df['mileage'].mean()))"
   ]
  },
  {
   "cell_type": "markdown",
   "id": "93aec441",
   "metadata": {},
   "source": [
    "**🟢 Drivetrain Column**"
   ]
  },
  {
   "cell_type": "code",
   "execution_count": 45,
   "id": "2746f2fd",
   "metadata": {},
   "outputs": [
    {
     "data": {
      "text/plain": [
       "0"
      ]
     },
     "execution_count": 45,
     "metadata": {},
     "output_type": "execute_result"
    }
   ],
   "source": [
    "df['drivetrain'].isnull().sum()"
   ]
  },
  {
   "cell_type": "code",
   "execution_count": 46,
   "id": "c2fb36bc",
   "metadata": {},
   "outputs": [
    {
     "data": {
      "text/plain": [
       "drivetrain\n",
       "All-wheel Drive      445\n",
       "Four-wheel Drive     324\n",
       "Front-wheel Drive    138\n",
       "Rear-wheel Drive      72\n",
       "Name: count, dtype: int64"
      ]
     },
     "execution_count": 46,
     "metadata": {},
     "output_type": "execute_result"
    }
   ],
   "source": [
    "df['drivetrain'].value_counts()"
   ]
  },
  {
   "cell_type": "markdown",
   "id": "34a094a9",
   "metadata": {},
   "source": [
    "Now, dropping original columns from where we extracted new features"
   ]
  },
  {
   "cell_type": "code",
   "execution_count": 47,
   "id": "051e12e2",
   "metadata": {},
   "outputs": [],
   "source": [
    "df = df.drop(columns=['name', 'description', 'engine', 'transmission', 'exterior_color', 'interior_color', ])"
   ]
  },
  {
   "cell_type": "code",
   "execution_count": 48,
   "id": "4d622445",
   "metadata": {},
   "outputs": [
    {
     "data": {
      "text/plain": [
       "make                  28\n",
       "model                151\n",
       "year                   3\n",
       "cylinders              5\n",
       "fuel                   7\n",
       "mileage               27\n",
       "trim                  87\n",
       "body                   8\n",
       "doors                  4\n",
       "drivetrain             4\n",
       "valve_count            5\n",
       "fuel_system            5\n",
       "valve_train            4\n",
       "aspiration             4\n",
       "transmission_type      6\n",
       "gears                  6\n",
       "ext_color             45\n",
       "int_color             22\n",
       "dtype: int64"
      ]
     },
     "execution_count": 48,
     "metadata": {},
     "output_type": "execute_result"
    }
   ],
   "source": [
    "df.drop(columns=['price']).nunique()"
   ]
  },
  {
   "cell_type": "markdown",
   "id": "f7aac2f8",
   "metadata": {},
   "source": [
    "### Final Dataset"
   ]
  },
  {
   "cell_type": "code",
   "execution_count": null,
   "id": "096b994c",
   "metadata": {},
   "outputs": [],
   "source": [
    "df.to_csv('dataset_processed.csv', index=False)"
   ]
  }
 ],
 "metadata": {
  "kernelspec": {
   "display_name": "Python 3",
   "language": "python",
   "name": "python3"
  },
  "language_info": {
   "codemirror_mode": {
    "name": "ipython",
    "version": 3
   },
   "file_extension": ".py",
   "mimetype": "text/x-python",
   "name": "python",
   "nbconvert_exporter": "python",
   "pygments_lexer": "ipython3",
   "version": "3.9.7"
  }
 },
 "nbformat": 4,
 "nbformat_minor": 5
}
